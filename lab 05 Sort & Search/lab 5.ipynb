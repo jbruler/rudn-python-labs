{
 "cells": [
  {
   "cell_type": "markdown",
   "metadata": {},
   "source": [
    "# Лабораторная работа 5. Алгоритмы сортировки и поиска."
   ]
  },
  {
   "cell_type": "markdown",
   "metadata": {},
   "source": [
    "# 1. Алгоритмы сортировки."
   ]
  },
  {
   "cell_type": "code",
   "execution_count": 12,
   "metadata": {},
   "outputs": [],
   "source": [
    "ary = [0,3,5,1,2,3,5,4,2,34,43,24]"
   ]
  },
  {
   "cell_type": "markdown",
   "metadata": {},
   "source": [
    "# 1.1. Сортировка выбором\n",
    "\n",
    "Алгоритм:\n",
    "- найти наименьший элемент в неотсортированной части массива;\n",
    "- поставить его в начало;\n",
    "- сдвинуть начало неотсортированной части. \n",
    "\n",
    "Сложность: $O(n^2)$."
   ]
  },
  {
   "cell_type": "markdown",
   "metadata": {},
   "source": [
    "Программа:"
   ]
  },
  {
   "cell_type": "code",
   "execution_count": 1,
   "metadata": {},
   "outputs": [],
   "source": [
    "def selection_sort(array):\n",
    "    for i in range(len(array) - 1): # Указывает на начало неотсортированной части\n",
    "        m = i\n",
    "        j = i + 1\n",
    "        while j < len(array):\n",
    "            if array[j] < array[m]:\n",
    "                m = j\n",
    "            j = j + 1\n",
    "        array[i], array[m] = array[m], array[i]\n",
    "    return array"
   ]
  },
  {
   "cell_type": "markdown",
   "metadata": {},
   "source": [
    "Тестовый запуск:"
   ]
  },
  {
   "cell_type": "code",
   "execution_count": 14,
   "metadata": {},
   "outputs": [
    {
     "name": "stdout",
     "output_type": "stream",
     "text": [
      "[0, 1, 2, 2, 3, 3, 4, 5, 5, 24, 34, 43]\n"
     ]
    }
   ],
   "source": [
    "alist = ary.copy()\n",
    "print (selection_sort(alist))"
   ]
  },
  {
   "cell_type": "markdown",
   "metadata": {},
   "source": [
    "# 1.2. Сортировка вставками\n",
    "\n",
    "Алгоритм:\n",
    "- из неотсортированной части берется элемент;\n",
    "- вставляется в отсортированную часть на своё место (в начале массива). \n",
    "\n",
    "Сложность: $O(n^2)$."
   ]
  },
  {
   "cell_type": "code",
   "execution_count": 15,
   "metadata": {},
   "outputs": [],
   "source": [
    "def insertion_sort(a):\n",
    "    n = len(a)\n",
    "    for i in range(n):\n",
    "        v = a[i]\n",
    "        j = i\n",
    "        while (j > 0) and (a[j-1] > v):\n",
    "            a[j] = a[j-1]\n",
    "            j = j - 1\n",
    "        a[j] = v\n",
    "    return a"
   ]
  },
  {
   "cell_type": "code",
   "execution_count": 16,
   "metadata": {},
   "outputs": [
    {
     "name": "stdout",
     "output_type": "stream",
     "text": [
      "[0, 1, 2, 2, 3, 3, 4, 5, 5, 24, 34, 43]\n"
     ]
    }
   ],
   "source": [
    "alist = ary.copy()\n",
    "print (insertion_sort(alist))"
   ]
  },
  {
   "cell_type": "markdown",
   "metadata": {},
   "source": [
    "# 1.3. Сортировка методом пузырька\n",
    "\n",
    "Алгоритм:\n",
    "- последовательно сравниваются пары элементов идущих друг за другом;\n",
    "- в случае несоответствия выбранному порядку меняются местами. \n",
    "\n",
    "Сложность: $O(n^2)$."
   ]
  },
  {
   "cell_type": "code",
   "execution_count": 7,
   "metadata": {},
   "outputs": [],
   "source": [
    "def bubble_sort(a):\n",
    "    n = len(a)\n",
    "    for i in range(n,0,-1):\n",
    "        for j in range(1, i):\n",
    "            if a[j-1] > a[j]:\n",
    "                tmp = a[j-1]\n",
    "                a[j-1] = a[j]\n",
    "                a[j] = tmp\n",
    "    return a"
   ]
  },
  {
   "cell_type": "code",
   "execution_count": 8,
   "metadata": {},
   "outputs": [
    {
     "name": "stdout",
     "output_type": "stream",
     "text": [
      "[0, 1, 2, 2, 3, 3, 4, 5, 5, 24, 34, 43]\n"
     ]
    }
   ],
   "source": [
    "alist = ary.copy()\n",
    "print (bubble_sort(alist))"
   ]
  },
  {
   "cell_type": "markdown",
   "metadata": {},
   "source": [
    "# 1.4. Сортировка слиянием\n",
    "\n",
    "Алгоритм:\n",
    "- сортируемый массив разбивается на две части примерно одинакового размера;\n",
    "- каждая из получившихся частей сортируется отдельно, например — тем же самым алгоритмом;\n",
    "- два упорядоченных массива половинного размера соединяются в один. \n",
    "\n",
    "Сложность: $O(n^2)$."
   ]
  },
  {
   "cell_type": "code",
   "execution_count": 9,
   "metadata": {},
   "outputs": [],
   "source": [
    "def merge_sort(arrayToSort):\n",
    "    if len(arrayToSort)>1:\n",
    "        mid = len(arrayToSort)//2\n",
    "        lefthalf = arrayToSort[:mid]\n",
    "        righthalf = arrayToSort[mid:]\n",
    "        \n",
    "        merge_sort(lefthalf)\n",
    "        merge_sort(righthalf)\n",
    "        \n",
    "        i, j, k = 0, 0, 0       \n",
    "        while i<len(lefthalf) and j<len(righthalf):\n",
    "            if lefthalf[i]<righthalf[j]:\n",
    "                arrayToSort[k]=lefthalf[i]\n",
    "                i=i+1\n",
    "            else:\n",
    "                arrayToSort[k]=righthalf[j]\n",
    "                j=j+1\n",
    "            k=k+1\n",
    "        while i<len(lefthalf):\n",
    "            arrayToSort[k]=lefthalf[i]\n",
    "            i=i+1; k=k+1\n",
    "        while j<len(righthalf):\n",
    "            arrayToSort[k]=righthalf[j]\n",
    "            j=j+1; k=k+1"
   ]
  },
  {
   "cell_type": "code",
   "execution_count": 10,
   "metadata": {},
   "outputs": [
    {
     "name": "stdout",
     "output_type": "stream",
     "text": [
      "[0, 1, 2, 2, 3, 3, 4, 5, 5, 24, 34, 43]\n"
     ]
    }
   ],
   "source": [
    "alist = ary.copy() \n",
    "merge_sort(alist); \n",
    "print(alist)"
   ]
  },
  {
   "cell_type": "markdown",
   "metadata": {},
   "source": [
    "# 1.5. Быстрая сортировка\n",
    "\n",
    "Алгоритм:\n",
    "- выбрать (опорным) элемент из массива;\n",
    "- перераспределить элементы в массиве так, что элементы меньше опорного помещаются перед ним, а больше или равные после;\n",
    "- применить первые два шага к подмассивам слева и справа от опорных элементов, пока в подмассивах не останется не более одного элемента. \n",
    "\n",
    "Сложность: Средняя $O(n log_2 n)$, Худшая $O(n^2)$."
   ]
  },
  {
   "cell_type": "code",
   "execution_count": 4,
   "metadata": {},
   "outputs": [],
   "source": [
    "def quick_sort(a, l, r):\n",
    "    if (r > l):\n",
    "        v, i, j = a[r], l - 1, r\n",
    "\n",
    "        while (True):\n",
    "            i, j = i + 1, j - 1                            \n",
    "            while(a[i] < v): i = i + 1\n",
    "            while(a[j] > v): j = j - 1\n",
    "            if (i >= j): break\n",
    "            a[i], a[j] = a[j], a[i]\n",
    "            \n",
    "        a[i], a[r] = a[r], a[i]\n",
    "\n",
    "        quick_sort(a, l, i - 1)\n",
    "        quick_sort(a, i + 1, r)"
   ]
  },
  {
   "cell_type": "code",
   "execution_count": 6,
   "metadata": {
    "scrolled": true
   },
   "outputs": [
    {
     "name": "stdout",
     "output_type": "stream",
     "text": [
      "[0, 1, 2, 2, 3, 3, 4, 5, 5, 24, 34, 43]\n"
     ]
    }
   ],
   "source": [
    "alist = ary.copy() \n",
    "quick_sort(alist, 0, len(alist)-1)\n",
    "print (alist)"
   ]
  },
  {
   "cell_type": "markdown",
   "metadata": {},
   "source": [
    "# Упражнение 1. Сортировка подсчётом.\n",
    "\n",
    "Есть ли алгоритмы сортировки со сложностью, меньшей $O(n log_2 n)$?\n",
    "\n",
    "Да, если известны свойства ключей. Например, если число возможных вариантов значений ограничено (и невелико) можно воспользоваться сортировкой подсчётом. \n",
    "\n",
    "Алгоритм:\n",
    "- создать массив с числом элементов равным количеству возможным вариантов ключа, заполнить его 0;\n",
    "- перебрать (пройти) сортируемое множество подсчитывая количество ключей с конкретным значением (увеличивая на 1 значения соответствующего элемента ранее созданного массива);\n",
    "- записать подряд все ненулевые эллементы получившегося массива соответствующее его значению число раз.\n",
    "\n",
    "Сложность: $O(n+k)$, где $k$ - число вариантов ключей.\n",
    "\n",
    "Напишите программу (функцию) реализующую данный алгоритм."
   ]
  },
  {
   "cell_type": "code",
   "execution_count": 7,
   "metadata": {},
   "outputs": [
    {
     "data": {
      "image/png": "[encoded data removed]",
      "text/plain": [
       "<IPython.core.display.Image object>"
      ]
     },
     "execution_count": 7,
     "metadata": {},
     "output_type": "execute_result"
    }
   ],
   "source": [
    "# Так можно добавлять картинки\n",
    "\n",
    "from IPython.display import Image # вызов из библиотеки определённой функции\n",
    "Image(\"Сортировка подсчётом.png\")              # вызов функции и передача ей в качестве аргумента пути к файлу \n",
    "\n",
    "# (в данном случае фаил находится в той же папке)"
   ]
  },
  {
   "cell_type": "code",
   "execution_count": null,
   "metadata": {},
   "outputs": [],
   "source": []
  },
  {
   "cell_type": "markdown",
   "metadata": {},
   "source": [
    "# Пример. Число $\\pi$"
   ]
  },
  {
   "cell_type": "code",
   "execution_count": 5,
   "metadata": {},
   "outputs": [],
   "source": [
    "from sympy import *\n",
    "import numpy as np\n",
    "import time\n",
    "import pylab\n",
    "import matplotlib.pyplot as plt"
   ]
  },
  {
   "cell_type": "code",
   "execution_count": 6,
   "metadata": {},
   "outputs": [
    {
     "name": "stdout",
     "output_type": "stream",
     "text": [
      "Выведем 7 знаков числа пи:\n",
      " 3.141593\n"
     ]
    }
   ],
   "source": [
    "# Выведем заданное колличество знаков числа pi\n",
    "npi=7;\n",
    "print('Выведем %i знаков числа пи:\\n' %npi, pi.n(npi));"
   ]
  },
  {
   "cell_type": "markdown",
   "metadata": {},
   "source": [
    "Конвертируем дробную часть числа $\\pi$ в список:"
   ]
  },
  {
   "cell_type": "code",
   "execution_count": 7,
   "metadata": {},
   "outputs": [],
   "source": [
    "PI = [int(i) for i in str(pi.n(npi))[2:]]"
   ]
  },
  {
   "cell_type": "markdown",
   "metadata": {},
   "source": [
    "Кроме того, можем считать цифры дробной части числа $\\pi$ из файла (в котором хранятся 10 000 000 его символов):"
   ]
  },
  {
   "cell_type": "code",
   "execution_count": 8,
   "metadata": {},
   "outputs": [],
   "source": [
    "f = open(\"pi-10million.txt\")  #  открываем файл. Оригинал файла находится по адресу https://introcs.cs.princeton.edu/java/data/pi-10million.txt\n",
    "fs = f.readline(npi)          #  считываем из него npi символов\n",
    "f.close()                     #  закроем файл"
   ]
  },
  {
   "cell_type": "code",
   "execution_count": 9,
   "metadata": {},
   "outputs": [
    {
     "data": {
      "text/plain": [
       "'1415926'"
      ]
     },
     "execution_count": 9,
     "metadata": {},
     "output_type": "execute_result"
    }
   ],
   "source": [
    "fs"
   ]
  },
  {
   "cell_type": "code",
   "execution_count": 10,
   "metadata": {},
   "outputs": [
    {
     "name": "stdout",
     "output_type": "stream",
     "text": [
      "[1, 4, 1, 5, 9, 2, 6]\n"
     ]
    }
   ],
   "source": [
    "Pi = [int(i) for i in fs]\n",
    "print(Pi)"
   ]
  },
  {
   "cell_type": "markdown",
   "metadata": {},
   "source": [
    "# Упражнение. Сортировка $\\pi$\n",
    "\n",
    "Сравните временную сложность всех рассмотренных алгоритмов сортировки на примере цифр числа $\\pi$.\n",
    "\n",
    "Воспользуйтесь для этого замером времени с помощью библиотеки time. Пример:"
   ]
  },
  {
   "cell_type": "code",
   "execution_count": 17,
   "metadata": {},
   "outputs": [
    {
     "name": "stdout",
     "output_type": "stream",
     "text": [
      "Отсортированные цифры числа пи: \n",
      "\n",
      " [1, 1, 3, 4, 5, 9]\n",
      "\n",
      " Время потраченное на сортировку составило   0.0000000e+00 секунд\n"
     ]
    }
   ],
   "source": [
    "start_time = time.time()\n",
    "PI2 = insertion_sort(PI) \n",
    "Time = time.time() - start_time\n",
    "print ('Отсортированные цифры числа пи: \\n\\n', PI2)\n",
    "print('\\n Время потраченное на сортировку составило %15.7e секунд' % Time)"
   ]
  },
  {
   "cell_type": "markdown",
   "metadata": {},
   "source": [
    "Запишем отсортированный список в файл:"
   ]
  },
  {
   "cell_type": "code",
   "execution_count": 18,
   "metadata": {},
   "outputs": [],
   "source": [
    "f1 = open(\"pi_sort.txt\", 'w')\n",
    "f1.writelines('%i' % i for i in PI2)\n",
    "f1.close()"
   ]
  },
  {
   "cell_type": "markdown",
   "metadata": {},
   "source": [
    "Проверим что получилось:"
   ]
  },
  {
   "cell_type": "code",
   "execution_count": 19,
   "metadata": {},
   "outputs": [
    {
     "name": "stdout",
     "output_type": "stream",
     "text": [
      "['113459']\n"
     ]
    }
   ],
   "source": [
    "f1 = open(\"pi_sort.txt\", 'r')\n",
    "fs = f1.readlines()          #  считываем всё содержимое файла\n",
    "print(fs)\n",
    "f1.close()"
   ]
  },
  {
   "cell_type": "markdown",
   "metadata": {},
   "source": [
    "Посмотрим как меняются затраты времени на сортировку вставками при увеличении числа сортируемых объектов:"
   ]
  },
  {
   "cell_type": "code",
   "execution_count": 20,
   "metadata": {},
   "outputs": [],
   "source": [
    "ik = 11\n",
    "Time = np.zeros(ik)\n",
    "NPI = [(i+1)*50 for i in range(ik)]\n",
    "i=0\n",
    "for npi in NPI:\n",
    "    PI = [int(i) for i in str(pi.n(npi))[2:]]\n",
    "    start_time = time.time()\n",
    "    PI2 = insertion_sort(PI) \n",
    "    Time[i]=time.time()-start_time\n",
    "    i+=1"
   ]
  },
  {
   "cell_type": "code",
   "execution_count": 22,
   "metadata": {},
   "outputs": [
    {
     "name": "stdout",
     "output_type": "stream",
     "text": [
      "\t size\t Tame(sec)\n",
      "\t 50 \t 9.997e-04\n",
      "\t 100 \t 9.985e-04\n",
      "\t 150 \t 3.997e-03\n",
      "\t 200 \t 6.996e-03\n",
      "\t 250 \t 1.199e-02\n",
      "\t 300 \t 1.200e-02\n",
      "\t 350 \t 1.999e-02\n",
      "\t 400 \t 2.099e-02\n",
      "\t 450 \t 2.598e-02\n",
      "\t 500 \t 5.397e-02\n",
      "\t 550 \t 3.498e-02\n"
     ]
    },
    {
     "data": {
      "image/png": "[encoded data removed]",
      "text/plain": [
       "<Figure size 432x288 with 1 Axes>"
      ]
     },
     "metadata": {
      "needs_background": "light"
     },
     "output_type": "display_data"
    }
   ],
   "source": [
    "print('\\t size\\t Tame(sec)')\n",
    "for i in range(0,ik):\n",
    "    print ('\\t %i \\t %.3e' %(NPI[i], Time[i]))\n",
    "\n",
    "# график функции\n",
    "pylab.figure ()\n",
    "plt.plot(NPI, Time, c='b')\n",
    "plt.scatter(NPI, Time, c='b',s=50)\n",
    "# параметры графика\n",
    "xl = plt.xlabel(\"size\");\n",
    "yl = plt.ylabel(\"tame (sec)\");\n",
    "plt.grid(True);\n",
    "plt.show();"
   ]
  },
  {
   "cell_type": "markdown",
   "metadata": {},
   "source": [
    "# Пример. Последовательный поиск"
   ]
  },
  {
   "cell_type": "code",
   "execution_count": 40,
   "metadata": {},
   "outputs": [],
   "source": [
    "def dummy_search (a, key):\n",
    "    n = len(a)\n",
    "    for i in range(n):\n",
    "        if a[i] == key:\n",
    "            return i\n",
    "    return n"
   ]
  },
  {
   "cell_type": "code",
   "execution_count": 41,
   "metadata": {},
   "outputs": [
    {
     "name": "stdout",
     "output_type": "stream",
     "text": [
      "6\n"
     ]
    }
   ],
   "source": [
    "ary = [7,8,1,2,3,4,13,5,1,2,44,5,1]\n",
    "print(dummy_search (ary, 13))"
   ]
  },
  {
   "cell_type": "code",
   "execution_count": 45,
   "metadata": {},
   "outputs": [],
   "source": [
    "# вероятно чуть более рациональная реализация\n",
    "def clever_search (a, key):\n",
    "    n = len(a)\n",
    "    i=0\n",
    "    while a[i]!=key:\n",
    "        i=i+1\n",
    "    return i"
   ]
  },
  {
   "cell_type": "code",
   "execution_count": 46,
   "metadata": {},
   "outputs": [
    {
     "name": "stdout",
     "output_type": "stream",
     "text": [
      "6\n"
     ]
    }
   ],
   "source": [
    "ary2 = [7,8,1,2,3,4,13,5,1,2,44,5,1,44]\n",
    "print(clever_search (ary2, 13))"
   ]
  },
  {
   "cell_type": "code",
   "execution_count": 47,
   "metadata": {},
   "outputs": [
    {
     "name": "stdout",
     "output_type": "stream",
     "text": [
      "1.22 µs ± 16.3 ns per loop (mean ± std. dev. of 7 runs, 1000000 loops each)\n",
      "1.12 µs ± 12.4 ns per loop (mean ± std. dev. of 7 runs, 1000000 loops each)\n"
     ]
    }
   ],
   "source": [
    "%timeit dummy_search (ary, 44)\n",
    "    \n",
    "%timeit clever_search (ary2, 44)"
   ]
  },
  {
   "cell_type": "markdown",
   "metadata": {},
   "source": [
    "# Упражнение. Поиск в $\\pi$\n",
    "\n",
    "Найдите в дробной части числа $\\pi$ порядковый номер каждой цифры начиная с 1 встретившейся количество раз равное её значению (первую единицу, вторую двойку и т.д.)"
   ]
  },
  {
   "cell_type": "code",
   "execution_count": null,
   "metadata": {},
   "outputs": [],
   "source": []
  },
  {
   "cell_type": "markdown",
   "metadata": {},
   "source": [
    "# Домашнее задание (базовое):"
   ]
  },
  {
   "cell_type": "markdown",
   "metadata": {},
   "source": [
    "# Задание 1.\n",
    "\n",
    "Найдите в числе $\\pi$ номер цифры в дробной части после которой идёт последовательность из:\n",
    "\n",
    "- шести 9;\n",
    "- шесть 8;\n",
    "- шесть 0;\n",
    "- первых шести цифр;\n",
    "- семь цифр вашего номера телефона."
   ]
  },
  {
   "cell_type": "code",
   "execution_count": null,
   "metadata": {},
   "outputs": [],
   "source": []
  },
  {
   "cell_type": "markdown",
   "metadata": {},
   "source": [
    "# Задание 2. Поиск в отсортированном массиве\n",
    "\n",
    "Реализуйте алгоритмы сужения области:\n",
    "\n",
    "- бинарный поиск (https://ru.wikipedia.org/wiki/%D0%94%D0%B2%D0%BE%D0%B8%D1%87%D0%BD%D1%8B%D0%B9_%D0%BF%D0%BE%D0%B8%D1%81%D0%BA)\n",
    "- метод золотого сечения (https://ru.wikipedia.org/wiki/%D0%9C%D0%B5%D1%82%D0%BE%D0%B4_%D0%B7%D0%BE%D0%BB%D0%BE%D1%82%D0%BE%D0%B3%D0%BE_%D1%81%D0%B5%D1%87%D0%B5%D0%BD%D0%B8%D1%8F)\n",
    "- интерполирующий поиск (https://ru.wikipedia.org/wiki/%D0%98%D0%BD%D1%82%D0%B5%D1%80%D0%BF%D0%BE%D0%BB%D1%8F%D1%86%D0%B8%D0%BE%D0%BD%D0%BD%D1%8B%D0%B9_%D0%BF%D0%BE%D0%B8%D1%81%D0%BA)\n",
    "\n",
    "(см. лекцию 3 с. 17)"
   ]
  },
  {
   "cell_type": "code",
   "execution_count": null,
   "metadata": {},
   "outputs": [],
   "source": []
  },
  {
   "cell_type": "markdown",
   "metadata": {},
   "source": [
    "# Задание 3.\n",
    "\n",
    "Сравните производительность алгоритмов из задания 2 на задании 1."
   ]
  },
  {
   "cell_type": "code",
   "execution_count": null,
   "metadata": {},
   "outputs": [],
   "source": []
  },
  {
   "cell_type": "markdown",
   "metadata": {},
   "source": [
    "# Домашнее задание (дополнительное):"
   ]
  },
  {
   "cell_type": "markdown",
   "metadata": {},
   "source": [
    "# Задание \"Пирамидальная сортировка\"\n",
    "\n",
    "Напишите программу (функцию) реализующую алгоритм пирамидальной сортировки (https://ru.wikipedia.org/wiki/%D0%9F%D0%B8%D1%80%D0%B0%D0%BC%D0%B8%D0%B4%D0%B0%D0%BB%D1%8C%D0%BD%D0%B0%D1%8F_%D1%81%D0%BE%D1%80%D1%82%D0%B8%D1%80%D0%BE%D0%B2%D0%BA%D0%B0,\n",
    "https://habr.com/ru/post/221095/,\n",
    "Алгоритмы. Справочник с примерами на C, C , Java и Python (Хайнеман Дж., и др - 2017) с. 87)."
   ]
  },
  {
   "cell_type": "code",
   "execution_count": null,
   "metadata": {},
   "outputs": [],
   "source": []
  },
  {
   "cell_type": "markdown",
   "metadata": {},
   "source": [
    "# Задание \"Малые тела\"\n",
    "\n",
    "Есть база данных малых тел солнечной системы созданная под эгидой Международного астрономического союза. Файл с этой базой можно скачать здесь https://www.minorplanetcenter.net/iau/MPCORB/MPCORB.DAT, а здесь приведено его описание https://www.minorplanetcenter.net/iau/info/MPOrbitFormat.html\n",
    "\n",
    "Отсортируйте эту базу по названию малого тела. Напишите две программы реализующие поиск в отсортированном и неотсартированном массивах. В последнем случае поиск может производиться по любому параметру из таблицы."
   ]
  },
  {
   "cell_type": "code",
   "execution_count": null,
   "metadata": {},
   "outputs": [],
   "source": []
  }
 ],
 "metadata": {
  "kernelspec": {
   "display_name": "Python 3",
   "language": "python",
   "name": "python3"
  },
  "language_info": {
   "codemirror_mode": {
    "name": "ipython",
    "version": 3
   },
   "file_extension": ".py",
   "mimetype": "text/x-python",
   "name": "python",
   "nbconvert_exporter": "python",
   "pygments_lexer": "ipython3",
   "version": "3.7.3"
  }
 },
 "nbformat": 4,
 "nbformat_minor": 2
}
