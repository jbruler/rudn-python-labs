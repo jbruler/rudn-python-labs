{
 "cells": [
  {
   "cell_type": "markdown",
   "metadata": {},
   "source": [
    "# Лабораторная работа 11. Многозадачность: процессы и потоки.\n",
    "\n",
    "Многозадачность (параллельность исполнения) - расщепление последовательности выполнения программы на несколько самостоятельных (возможно со своими локальными переменными, стеками и т.п.) подпрограмм, выполняющих каждый свою задачу и не отвлекающихся на то, как реализованы решения смежных задач, и выполнение этих подпрограмм одновременно (в каком-то смысле).\n",
    "\n",
    "Подходы к реализации:\n",
    "\n",
    "- процессы - каждая задача выполняется в своём изолированном процессе естественно, многозадачность вытесняющая, изоляция означает и большую надёжность, и меньшие возможности по взаимодействию; \n",
    "\n",
    "- потоки - каждая задача выполняется в своём потоке ОС или виртуальной машины, распределение по ядрам и переключения внезапные (вытесняющая многозадачность), но все задачи существуют в едином пространстве и могут обмениваться данными через общую память;\n",
    "\n",
    "- сопрограммы - фрагменты задач поочерёдно выполняются в рамках одного и того же потока, переключения явные (кооперативная многозадачность)."
   ]
  },
  {
   "cell_type": "markdown",
   "metadata": {},
   "source": [
    "# 1. Процессы"
   ]
  },
  {
   "cell_type": "markdown",
   "metadata": {},
   "source": [
    "Ветвление процессов является традиционным способом организации параллельных вычислений и представляет собой фундаментальную\n",
    "часть инструментального набора Unix. Ветвление процессов – это самый простой способ запуска независимых программ, как отличных, так и не отличных от вызывающей программы.\n",
    "\n",
    "После операции ветвления исходный экземпляр программы называется родительским процессом, а копия, созданная с помощью функции os.fork, называется дочерним процессом. Вообще говоря, родитель может воспроизвести любое число потомков, а потомки могут создать собственные дочерние процессы – все ответвленные процессы выполняются независимо и параллельно под управлением операционной системы, и дочерние процессы могут продолжать выполняться даже после завершения родительского процесса.\n",
    "\n",
    "Поскольку эта функция создает копию вызывающей программы, она возвращает различные значения в каждой копии: ноль – в дочернем процессе и числовой идентификатор ID процесса нового потомка – в родительском процессе.\n",
    "\n",
    "Поскольку ветвление процессов является частью модели программирования в Unix, этот сценарий замечательно будет функционировать в Unix, Linux и в современных версиях Mac OS. К сожалению, этот сценарий не будет работать под управлением стандартной версии Python в Windows, потому что функция fork не стыкуется с моделью Windows. \n",
    "\n",
    "Тем не менее в Windows сценарии на языке Python всегда могут порождать потоки выполнения, а также использовать пакет multiprocessing. Этот модуль обеспечивает альтернативный и переносимый способ запуска процессов. Другим вариантом является использование Python вместе с системами типа Cygwin, обеспечивающих полную Unix-подобную функциональность для Windows.\n",
    "\n",
    "Для работы с библиотекой multiprocessing и запуска параллельных процессов можно использовать среду PyCharm (https://www.jetbrains.com/ru-ru/pycharm/download/#section=windows)."
   ]
  },
  {
   "cell_type": "markdown",
   "metadata": {},
   "source": [
    "# multiprocessing \n",
    "\n",
    "\n",
    "(https://docs.python.org/3/library/multiprocessing.html)"
   ]
  },
  {
   "cell_type": "code",
   "execution_count": 1,
   "metadata": {},
   "outputs": [
    {
     "data": {
      "text/plain": [
       "20"
      ]
     },
     "execution_count": 1,
     "metadata": {},
     "output_type": "execute_result"
    }
   ],
   "source": [
    "import multiprocessing\n",
    "\n",
    "multiprocessing.cpu_count()"
   ]
  },
  {
   "cell_type": "markdown",
   "metadata": {},
   "source": [
    "Процесс как поток и взаимодействие порождающих и порождаемых потоков."
   ]
  },
  {
   "cell_type": "code",
   "execution_count": 2,
   "metadata": {},
   "outputs": [
    {
     "name": "stdout",
     "output_type": "stream",
     "text": [
      "start\n",
      "10  I'm process 9480 The time is Sat Oct 31 12:37:42 2020\n",
      "9  I'm process 9480 The time is Sat Oct 31 12:37:44 2020\n",
      "8  I'm process 9480 The time is Sat Oct 31 12:37:46 2020\n",
      "7  I'm process 9480 The time is Sat Oct 31 12:37:48 2020\n",
      "6  I'm process 9480 The time is Sat Oct 31 12:37:50 2020\n",
      "end\n",
      "5  I'm process 9480 The time is Sat Oct 31 12:37:52 2020\n",
      "4  I'm process 9480 The time is Sat Oct 31 12:37:54 2020\n",
      "3  I'm process 9480 The time is Sat Oct 31 12:37:56 2020\n",
      "2  I'm process 9480 The time is Sat Oct 31 12:37:58 2020\n",
      "1  I'm process 9480 The time is Sat Oct 31 12:38:00 2020\n"
     ]
    }
   ],
   "source": [
    "# import multiprocessing\n",
    "\n",
    "import multiprocessing.dummy as multiprocessing\n",
    "from os import getpid\n",
    "import time\n",
    "\n",
    "def clock(interval):\n",
    "    n=10\n",
    "    while bool(n):\n",
    "        print(n, \" I'm process\", getpid(), 'The time is %s' % time.ctime())\n",
    "        time.sleep(interval)\n",
    "        n-=1\n",
    "\n",
    "if __name__ == '__main__':\n",
    "    p = multiprocessing.Process(target=clock, args=(2,))\n",
    "    print('start')\n",
    "    p.start()\n",
    "    p.join(10)\n",
    "    print('end')"
   ]
  },
  {
   "cell_type": "code",
   "execution_count": 3,
   "metadata": {},
   "outputs": [
    {
     "name": "stdout",
     "output_type": "stream",
     "text": [
      " I'm PROCESS 9480 hahaha!!!\n"
     ]
    }
   ],
   "source": [
    "print(\" I'm PROCESS\", getpid(),'hahaha!!!')"
   ]
  },
  {
   "cell_type": "markdown",
   "metadata": {},
   "source": [
    "# Пулы процессов"
   ]
  },
  {
   "cell_type": "markdown",
   "metadata": {},
   "source": [
    "Пусть есть три функции a, b ,c: "
   ]
  },
  {
   "cell_type": "code",
   "execution_count": 4,
   "metadata": {},
   "outputs": [],
   "source": [
    "def a(x):\n",
    "    time.sleep(x)\n",
    "    print('a выполнен')\n",
    "    return 'a'\n",
    "def b(x):\n",
    "    time.sleep(x)\n",
    "    print('b выполнен')    \n",
    "    return 'b'\n",
    "def c(x):\n",
    "    time.sleep(x)\n",
    "    print('c выполнен')    \n",
    "    return 'c'"
   ]
  },
  {
   "cell_type": "markdown",
   "metadata": {},
   "source": [
    "Их необходимо вызвать в отдельных потоках (процессах), дождаться результата их выполнения и выдать ответ."
   ]
  },
  {
   "cell_type": "code",
   "execution_count": 5,
   "metadata": {},
   "outputs": [
    {
     "name": "stdout",
     "output_type": "stream",
     "text": [
      "c выполнен\n",
      "b выполнен\n",
      "a выполнен\n",
      "['a', 'b', 'c']\n",
      "4.049452781677246\n"
     ]
    }
   ],
   "source": [
    "if __name__ == '__main__':\n",
    "\n",
    "    time_a = 4\n",
    "    time_b = 2\n",
    "    time_c = 1\n",
    "\n",
    "    t0 = time.time()\n",
    "\n",
    "    p = multiprocessing.Pool()\n",
    "\n",
    "    results = p.map(lambda fx: fx[0](fx[1]),[[a,time_a],[b,time_b],[c,time_c]])\n",
    "    print(results)\n",
    "    p.close()\n",
    "    p.join()\n",
    "\n",
    "    print(time.time() - t0)"
   ]
  },
  {
   "cell_type": "markdown",
   "metadata": {},
   "source": [
    "Их необходимо вызвать в отдельных потоках (процессах), и спустя некоторое время проверить, завершились они или нет, выдать результат."
   ]
  },
  {
   "cell_type": "code",
   "execution_count": 6,
   "metadata": {},
   "outputs": [
    {
     "name": "stdout",
     "output_type": "stream",
     "text": [
      "c выполнен\n",
      "a выполнен\n"
     ]
    },
    {
     "ename": "TimeoutError",
     "evalue": "",
     "output_type": "error",
     "traceback": [
      "\u001b[1;31m---------------------------------------------------------------------------\u001b[0m",
      "\u001b[1;31mTimeoutError\u001b[0m                              Traceback (most recent call last)",
      "\u001b[1;32m<ipython-input-6-9c9dd300ff7e>\u001b[0m in \u001b[0;36m<module>\u001b[1;34m\u001b[0m\n\u001b[0;32m      8\u001b[0m \u001b[1;33m\u001b[0m\u001b[0m\n\u001b[0;32m      9\u001b[0m \u001b[0mTIMEOUT\u001b[0m \u001b[1;33m=\u001b[0m \u001b[1;36m3\u001b[0m\u001b[1;33m\u001b[0m\u001b[1;33m\u001b[0m\u001b[0m\n\u001b[1;32m---> 10\u001b[1;33m \u001b[0mprint\u001b[0m\u001b[1;33m(\u001b[0m\u001b[0mresults\u001b[0m\u001b[1;33m.\u001b[0m\u001b[0mget\u001b[0m\u001b[1;33m(\u001b[0m\u001b[0mTIMEOUT\u001b[0m\u001b[1;33m)\u001b[0m\u001b[1;33m)\u001b[0m\u001b[1;33m\u001b[0m\u001b[1;33m\u001b[0m\u001b[0m\n\u001b[0m\u001b[0;32m     11\u001b[0m \u001b[1;33m\u001b[0m\u001b[0m\n\u001b[0;32m     12\u001b[0m \u001b[0mp\u001b[0m\u001b[1;33m.\u001b[0m\u001b[0mclose\u001b[0m\u001b[1;33m(\u001b[0m\u001b[1;33m)\u001b[0m\u001b[1;33m\u001b[0m\u001b[1;33m\u001b[0m\u001b[0m\n",
      "\u001b[1;32mD:\\Program Files\\Anaconda3\\lib\\multiprocessing\\pool.py\u001b[0m in \u001b[0;36mget\u001b[1;34m(self, timeout)\u001b[0m\n\u001b[0;32m    651\u001b[0m         \u001b[0mself\u001b[0m\u001b[1;33m.\u001b[0m\u001b[0mwait\u001b[0m\u001b[1;33m(\u001b[0m\u001b[0mtimeout\u001b[0m\u001b[1;33m)\u001b[0m\u001b[1;33m\u001b[0m\u001b[1;33m\u001b[0m\u001b[0m\n\u001b[0;32m    652\u001b[0m         \u001b[1;32mif\u001b[0m \u001b[1;32mnot\u001b[0m \u001b[0mself\u001b[0m\u001b[1;33m.\u001b[0m\u001b[0mready\u001b[0m\u001b[1;33m(\u001b[0m\u001b[1;33m)\u001b[0m\u001b[1;33m:\u001b[0m\u001b[1;33m\u001b[0m\u001b[1;33m\u001b[0m\u001b[0m\n\u001b[1;32m--> 653\u001b[1;33m             \u001b[1;32mraise\u001b[0m \u001b[0mTimeoutError\u001b[0m\u001b[1;33m\u001b[0m\u001b[1;33m\u001b[0m\u001b[0m\n\u001b[0m\u001b[0;32m    654\u001b[0m         \u001b[1;32mif\u001b[0m \u001b[0mself\u001b[0m\u001b[1;33m.\u001b[0m\u001b[0m_success\u001b[0m\u001b[1;33m:\u001b[0m\u001b[1;33m\u001b[0m\u001b[1;33m\u001b[0m\u001b[0m\n\u001b[0;32m    655\u001b[0m             \u001b[1;32mreturn\u001b[0m \u001b[0mself\u001b[0m\u001b[1;33m.\u001b[0m\u001b[0m_value\u001b[0m\u001b[1;33m\u001b[0m\u001b[1;33m\u001b[0m\u001b[0m\n",
      "\u001b[1;31mTimeoutError\u001b[0m: "
     ]
    },
    {
     "name": "stdout",
     "output_type": "stream",
     "text": [
      "b выполнен\n"
     ]
    }
   ],
   "source": [
    "time_a = 2\n",
    "time_b = 4\n",
    "time_c = 1\n",
    "\n",
    "p = multiprocessing.Pool()\n",
    "\n",
    "results = p.map_async(lambda fx: fx[0](fx[1]),[[a,time_a],[b,time_b],[c,time_c]])\n",
    "\n",
    "TIMEOUT = 3\n",
    "print(results.get(TIMEOUT))\n",
    "\n",
    "p.close()\n",
    "p.join()"
   ]
  },
  {
   "cell_type": "markdown",
   "metadata": {},
   "source": [
    "Если все процессы успевают закончится за время TIMEOUT, то результат выполнения такой же, как и в предыдущем случае, но если хоть одна из процедур не успевает завершится, выдается исключение TimeoutError. "
   ]
  },
  {
   "cell_type": "markdown",
   "metadata": {},
   "source": [
    "Их необходимо вызвать в отдельных потоках (процессах), дождаться результата функции a, выдать результат."
   ]
  },
  {
   "cell_type": "code",
   "execution_count": 7,
   "metadata": {},
   "outputs": [
    {
     "name": "stdout",
     "output_type": "stream",
     "text": [
      "c выполнен\n",
      "a выполнен\n",
      "['a']\n",
      "b выполнен\n",
      "6.049528360366821\n"
     ]
    }
   ],
   "source": [
    "time_a = 3\n",
    "time_b = 6\n",
    "time_c = 1\n",
    "\n",
    "t0 = time.time()\n",
    "\n",
    "p = multiprocessing.Pool()\n",
    "\n",
    "results=[]\n",
    "for r in p.imap(lambda fx: fx[0](fx[1]),[[a,time_a],[b,time_b],[c,time_c]]):\n",
    "     results.append(r)\n",
    "     break\n",
    "\n",
    "print(results)\n",
    "p.close()\n",
    "p.join()\n",
    "\n",
    "print(time.time() - t0)"
   ]
  },
  {
   "cell_type": "markdown",
   "metadata": {},
   "source": [
    "Как видно, хотя отработали 2 функции из 3, результат мы получили только для приоритетной. Чтобы получить результаты всех выполенных следует использовать imap_unordered:"
   ]
  },
  {
   "cell_type": "markdown",
   "metadata": {},
   "source": [
    "Вариант с синхронизацией."
   ]
  },
  {
   "cell_type": "code",
   "execution_count": 9,
   "metadata": {},
   "outputs": [
    {
     "name": "stdout",
     "output_type": "stream",
     "text": [
      "c выполнен\n",
      "a выполнен\n",
      "['c', 'a']\n",
      "b выполнен\n",
      "5.100900173187256\n"
     ]
    }
   ],
   "source": [
    "time_a = 2\n",
    "time_b = 5\n",
    "time_c = 1\n",
    "\n",
    "t0 = time.time()\n",
    "\n",
    "p = multiprocessing.Pool()\n",
    "\n",
    "results=[]\n",
    "\n",
    "for r  in p.imap_unordered(lambda fx: fx[0](fx[1]),[[a,time_a],[b,time_b],[c,time_c]]):\n",
    "    results.append(r)\n",
    "    if  r =='a':\n",
    "        break\n",
    "        \n",
    "print(results)\n",
    "p.close()\n",
    "p.join()       \n",
    "        \n",
    "print(time.time() - t0)"
   ]
  },
  {
   "cell_type": "markdown",
   "metadata": {},
   "source": [
    "Вариант без синхронизации."
   ]
  },
  {
   "cell_type": "code",
   "execution_count": 10,
   "metadata": {},
   "outputs": [
    {
     "name": "stdout",
     "output_type": "stream",
     "text": [
      "c выполнен\n",
      "a выполнен\n",
      "['c', 'a']\n",
      "2.016601085662842\n"
     ]
    }
   ],
   "source": [
    "time_a = 2\n",
    "time_b = 5\n",
    "time_c = 1\n",
    "\n",
    "t0 = time.time()\n",
    "\n",
    "p = multiprocessing.Pool()\n",
    "\n",
    "results=[]\n",
    "\n",
    "for r  in p.imap_unordered(lambda fx: fx[0](fx[1]),[[a,time_a],[b,time_b],[c,time_c]]):\n",
    "    results.append(r)\n",
    "    if  r =='a':\n",
    "        break\n",
    "        \n",
    "print(results)\n",
    "#p.close()\n",
    "#p.join()       \n",
    "        \n",
    "print(time.time() - t0)"
   ]
  },
  {
   "cell_type": "markdown",
   "metadata": {},
   "source": [
    "# Ручной пул."
   ]
  },
  {
   "cell_type": "code",
   "execution_count": 11,
   "metadata": {},
   "outputs": [],
   "source": [
    "def doubler(number, index):\n",
    "    result = number * 2\n",
    "    proc = getpid()\n",
    "    print('%i doubled to %i by process id: %i and thread %i, ' %(number, result, proc, index))\n",
    "    time.sleep(0.1)"
   ]
  },
  {
   "cell_type": "code",
   "execution_count": 12,
   "metadata": {},
   "outputs": [
    {
     "name": "stdout",
     "output_type": "stream",
     "text": [
      "5 doubled to 10 by process id: 14944 and thread 0, \n",
      "10 doubled to 20 by process id: 14944 and thread 1, \n",
      "15 doubled to 30 by process id: 14944 and thread 2, \n",
      "20 doubled to 40 by process id: 14944 and thread 3, \n",
      "25 doubled to 50 by process id: 14944 and thread 4, \n",
      "0.12149715423583984\n"
     ]
    }
   ],
   "source": [
    "t0 = time.time()\n",
    "    \n",
    "numbers = [5, 10, 15, 20, 25]\n",
    "procs = []\n",
    "    \n",
    "for index, number in enumerate(numbers):\n",
    "    proc = multiprocessing.Process(target=doubler, args=(number,index,))\n",
    "    procs.append(proc)\n",
    "    proc.start()\n",
    "    \n",
    "for proc in procs:\n",
    "    proc.join()\n",
    "    \n",
    "print(time.time() - t0)"
   ]
  },
  {
   "cell_type": "code",
   "execution_count": 13,
   "metadata": {},
   "outputs": [
    {
     "name": "stdout",
     "output_type": "stream",
     "text": [
      "5 doubled to 10 by process id: 14944 and thread 0, \n",
      "10 doubled to 20 by process id: 14944 and thread 1, \n",
      "15 doubled to 30 by process id: 14944 and thread 2, \n",
      "20 doubled to 40 by process id: 14944 and thread 3, \n",
      "25 doubled to 50 by process id: 14944 and thread 4, \n",
      "0.5442848205566406\n",
      "b выполнен\n"
     ]
    }
   ],
   "source": [
    "t0 = time.time()\n",
    "\n",
    "for index, number in enumerate(numbers):\n",
    "    doubler(number, index)\n",
    "    \n",
    "print(time.time() - t0)"
   ]
  },
  {
   "cell_type": "markdown",
   "metadata": {},
   "source": [
    "# 2. Потоки"
   ]
  },
  {
   "cell_type": "markdown",
   "metadata": {
    "collapsed": true
   },
   "source": [
    "Возьмём рекурсивную функцию для вычисления факториала:"
   ]
  },
  {
   "cell_type": "code",
   "execution_count": 9,
   "metadata": {},
   "outputs": [],
   "source": [
    "threadId = 1\n",
    " \n",
    "def factorial(n):\n",
    "    global threadId\n",
    "    if n < 1:                                        # тривиальный случай\n",
    "        print(\"%s: %d\" % (\"Нить\", threadId))\n",
    "        threadId += 1\n",
    "        return 1\n",
    "    else:\n",
    "        returnNumber = n * factorial(n - 1)          # рекурсивный вызов\n",
    "        print(str(n) + '! = ' + str(returnNumber))\n",
    "        return returnNumber"
   ]
  },
  {
   "cell_type": "code",
   "execution_count": 10,
   "metadata": {},
   "outputs": [
    {
     "name": "stdout",
     "output_type": "stream",
     "text": [
      "Нить: 1\n",
      "1! = 1\n",
      "2! = 2\n",
      "3! = 6\n",
      "4! = 24\n",
      "5! = 120\n"
     ]
    },
    {
     "data": {
      "text/plain": [
       "120"
      ]
     },
     "execution_count": 10,
     "metadata": {},
     "output_type": "execute_result"
    }
   ],
   "source": [
    "factorial(5)"
   ]
  },
  {
   "cell_type": "markdown",
   "metadata": {},
   "source": [
    "Вызов функции факториала с помощью thread:"
   ]
  },
  {
   "cell_type": "code",
   "execution_count": 11,
   "metadata": {
    "scrolled": true
   },
   "outputs": [
    {
     "name": "stdout",
     "output_type": "stream",
     "text": [
      "Нить: 2\n",
      "1! = 1\n",
      "2! = 2\n",
      "3! = 6\n",
      "4! = 24\n",
      "Нить: 3\n",
      "1! = 1\n",
      "2! = 2\n",
      "3! = 6\n",
      "4! = 24\n",
      "5! = 120\n"
     ]
    }
   ],
   "source": [
    "from threading import Thread \n",
    "\n",
    "thread1 = Thread(target=factorial, args=(4,))\n",
    "thread2 = Thread(target=factorial, args=(5,))\n",
    "\n",
    "thread1.start()\n",
    "thread2.start()\n",
    "thread1.join()\n",
    "thread2.join()"
   ]
  },
  {
   "cell_type": "markdown",
   "metadata": {},
   "source": [
    "Пул потоков (concurrent.futures.Future):"
   ]
  },
  {
   "cell_type": "code",
   "execution_count": 12,
   "metadata": {},
   "outputs": [
    {
     "name": "stdout",
     "output_type": "stream",
     "text": [
      "Нить: 4\n",
      "Нить: 5\n",
      "1! = 1\n",
      "Нить: 6\n",
      "1! = 1\n",
      "2! = 2\n",
      "1Нить: 7\n",
      "1! = 1\n",
      "2! = 2\n",
      "3! = 6\n",
      "Нить: 8\n",
      "1! = 1\n",
      "2! = 2\n",
      "3! = 6\n",
      "4! = 24\n",
      "Нить: 9\n",
      "1! = 1\n",
      "2! = 2\n",
      "\n",
      "Нить: 10\n",
      "1! = 1\n",
      "2! = 2\n",
      "3! = 6\n",
      "4! = 24\n",
      "5! = 120\n",
      "6! = 720\n",
      "Нить: 11\n",
      "1! = 1\n",
      "2! = 2\n",
      "3! = 6\n",
      "4! = 24\n",
      "5! = 120\n",
      "6! = 720\n",
      "7! = 5040\n",
      "Нить: 12\n",
      "1! = 1\n",
      "2! = 2\n",
      "3! = 6\n",
      "4! = 24\n",
      "5! = 120\n",
      "6! = 720\n",
      "7! = 5040\n",
      "8! = 40320\n",
      "Нить: 13\n",
      "1! = 1\n",
      "2! = 2\n",
      "3! = 6\n",
      "4! = 24\n",
      "5! = 120\n",
      "6! = 720\n",
      "7! = 5040\n",
      "8! = 40320\n",
      "9! = 362880\n",
      "3! = 6\n",
      "4! = 24\n",
      "5! = 120\n",
      "2\n",
      "1\n",
      "6\n",
      "24\n",
      "720\n",
      "5040\n",
      "40320\n",
      "362880\n",
      "120\n"
     ]
    }
   ],
   "source": [
    "from concurrent.futures import ThreadPoolExecutor, as_completed\n",
    "\n",
    "with ThreadPoolExecutor(max_workers=3) as pool:\n",
    "    \n",
    "    results = [pool.submit(factorial, i) for i in range(10)]\n",
    "    \n",
    "    for future in as_completed(results):\n",
    "        print(future.result())"
   ]
  },
  {
   "cell_type": "markdown",
   "metadata": {
    "collapsed": true
   },
   "source": [
    "В многопоточной программе доступ к объектам иногда нужно синхронизировать. Часто для синхронизации потоков используют блокировки. Любые блокировки замедляют выполнение программы. Лучше избегать использование блокировок и отдавать предпочтение обмену данными через очереди."
   ]
  },
  {
   "cell_type": "markdown",
   "metadata": {},
   "source": [
    "# Упражнение 1. Сложение многоразрядных чисел.\n",
    "\n",
    "Рассмотрим программу для сложения чисел произвольной длинны, заданных в символьном виде:"
   ]
  },
  {
   "cell_type": "code",
   "execution_count": 32,
   "metadata": {},
   "outputs": [],
   "source": [
    "def add_multinumbers(a, b, r=0):\n",
    "    c = ''\n",
    "    n = min(len(a), len(b))\n",
    "    for i in range(-1,-n-1,-1):\n",
    "        d = int(a[i]) + int(b[i]) + r\n",
    "        c = str(d%10)+c\n",
    "        r = d//10\n",
    "        \n",
    "    if len(a) > n:       \n",
    "        while r>0 and len(a)+i>0:\n",
    "            i=i-1\n",
    "            d = int(a[i]) + r\n",
    "            c = str(d%10)+c\n",
    "            r = d//10        \n",
    "        c=a[:len(a)+i]+c\n",
    "        \n",
    "    elif len(b) > n:       \n",
    "        while r>0 and len(b)+i>0:\n",
    "            i=i-1\n",
    "            d = int(b[i]) + r\n",
    "            c = str(d%10)+c\n",
    "            r = d//10        \n",
    "        c=b[:len(b)+i]+c       \n",
    "    c = str(r)+c   \n",
    "    return c"
   ]
  },
  {
   "cell_type": "code",
   "execution_count": 33,
   "metadata": {},
   "outputs": [
    {
     "data": {
      "text/plain": [
       "'10155961412'"
      ]
     },
     "execution_count": 33,
     "metadata": {},
     "output_type": "execute_result"
    }
   ],
   "source": [
    "a = '6934317835'\n",
    "b = '3221643577'\n",
    "add_multinumbers(a, b)"
   ]
  },
  {
   "cell_type": "code",
   "execution_count": 34,
   "metadata": {},
   "outputs": [
    {
     "data": {
      "text/plain": [
       "'08899100'"
      ]
     },
     "execution_count": 34,
     "metadata": {},
     "output_type": "execute_result"
    }
   ],
   "source": [
    "a = '8899099'\n",
    "b = '1'\n",
    "add_multinumbers(a, b)"
   ]
  },
  {
   "cell_type": "markdown",
   "metadata": {},
   "source": [
    "Недостатком этой программы является её низкая эффективность для достаточно больших чисел. Напишите программу расспаралеливающую вызов этой прграммы по разным процессам и сравните временные затраты.\n",
    "\n",
    "Сделайте распаралеливание в двух вариантах:\n",
    "1. наивном, с перещётом при переходе разрядов;\n",
    "2. спекулятивном, с расчётом в двух вариантах: a+b и a+b+1 с последующем выбором нужного варианта."
   ]
  },
  {
   "cell_type": "code",
   "execution_count": 35,
   "metadata": {},
   "outputs": [
    {
     "name": "stdout",
     "output_type": "stream",
     "text": [
      "69343 + 32216 = 10155900000\n",
      "17835 + 43577 = 061412\n",
      "10155961412\n"
     ]
    }
   ],
   "source": [
    "a = '6934317835'\n",
    "b = '3221643577'\n",
    "c1 = ''\n",
    "c2 = ''\n",
    "    \n",
    "na = len(a)\n",
    "nb = len(b)\n",
    "n = min(na,nb)//2\n",
    "\n",
    "c1 = add_multinumbers(a[:na-n],b[:nb-n])\n",
    "c2 = add_multinumbers(a[na-n:],b[nb-n:])\n",
    "\n",
    "print(a[:na-n], '+', b[:nb-n], '=', c1 + '0'*n)\n",
    "print(a[na-n:], '+', b[nb-n:], '=', c2)\n",
    "\n",
    "# теперь надо объеденить две части полученного числа по 1.\n",
    "\n",
    "if c2[0]=='1':\n",
    "    add_multinumbers(c1, '1')\n",
    "c = c1 + c2[1:]\n",
    "\n",
    "print(c)"
   ]
  },
  {
   "cell_type": "code",
   "execution_count": 39,
   "metadata": {},
   "outputs": [
    {
     "name": "stdout",
     "output_type": "stream",
     "text": [
      "10155961412\n"
     ]
    }
   ],
   "source": [
    "a = '6934317835'\n",
    "b = '3221643577'\n",
    "c1 = ''\n",
    "c2 = ''\n",
    "    \n",
    "na = len(a)\n",
    "nb = len(b)\n",
    "n = min(na,nb)//2\n",
    "\n",
    "c1a = add_multinumbers(a[:na-n],b[:nb-n])\n",
    "c1b = add_multinumbers(a[:na-n],b[:nb-n],1)\n",
    "c2 = add_multinumbers(a[na-n:],b[nb-n:])\n",
    "\n",
    "# теперь надо объеденить две части полученного числа по 1.\n",
    "\n",
    "if c2[0]=='1':\n",
    "    c = c1b + c2[1:]\n",
    "else:\n",
    "    c = c1a + c2[1:]\n",
    "\n",
    "print(c)"
   ]
  },
  {
   "cell_type": "code",
   "execution_count": 28,
   "metadata": {},
   "outputs": [
    {
     "name": "stdout",
     "output_type": "stream",
     "text": [
      "start\n",
      "['101559', '061412'] вот\n",
      "end\n"
     ]
    }
   ],
   "source": [
    "def add_multinumbers(a, b):\n",
    "    c = ''\n",
    "    n = max(len(a), len(b))\n",
    "    r = 0\n",
    "    for i in range(n-1,-1,-1):\n",
    "        d = int(a[i]) + int(b[i]) + r\n",
    "        c = str(d%10)+c\n",
    "        r = d//10\n",
    "    c = str(r)+c\n",
    "    return c\n",
    "\n",
    "if __name__ == '__main__':\n",
    "    \n",
    "    a = '6934317835'\n",
    "    b = '3221643577'\n",
    "    c1 = ''\n",
    "    c2 = ''\n",
    "    \n",
    "    na = len(a)\n",
    "    nb = len(b)\n",
    "    n = min(na,nb)//2\n",
    "    \n",
    "    p = multiprocessing.Pool()\n",
    "    print('start')\n",
    "    results = p.map(lambda fx: fx[0](fx[1], fx[2]),[[add_multinumbers,a[:na-n],b[:nb-n]],[add_multinumbers,a[na-n:],b[nb-n:]]])\n",
    "    print(results, 'вот')\n",
    "    p.close()\n",
    "    p.join()  \n",
    "      \n",
    "    # теперь надо объеденить две части полученного числа    \n",
    "        \n",
    "    print('end')"
   ]
  },
  {
   "cell_type": "markdown",
   "metadata": {},
   "source": [
    "# Очереди и замки."
   ]
  },
  {
   "cell_type": "markdown",
   "metadata": {
    "collapsed": true
   },
   "source": [
    "# Очередь (Queue)\n",
    "\n",
    "(https://docs.python.org/3/library/queue.html)"
   ]
  },
  {
   "cell_type": "code",
   "execution_count": 129,
   "metadata": {},
   "outputs": [
    {
     "name": "stdout",
     "output_type": "stream",
     "text": [
      "[0]process data:\n",
      " 1 0\n",
      "[1]\n",
      "process data: 2 1\n",
      "[2]\n",
      "[2, 3]\n",
      "[2, 3, 4]\n",
      "process data: 1 2\n",
      "[3, 4, 5]\n",
      "[3, 4, 5, 6]process data:\n",
      " 2 3\n",
      "[4, 5, 6, 7]\n",
      "[4, 5, 6, 7, 8]\n",
      "process data:[5, 6, 7, 8, 9]\n",
      " 1 4\n",
      "process data:[6, 7, 8, 9, 10] \n",
      "2 5\n",
      "process data:[7, 8, 9, 10, 11] 1\n",
      " 6\n",
      "process data:[8, 9, 10, 11, 12] \n",
      "2 7\n",
      "process data:[9, 10, 11, 12, 13] 1\n",
      " 8\n",
      "process data:[10, 11, 12, 13, 14] \n",
      "2 9\n",
      "process data: 1 10\n",
      "process data: 2 11\n",
      "process data: 1 12\n",
      "process data: 2 13\n",
      "process data: 1 14\n"
     ]
    }
   ],
   "source": [
    "from queue import Queue\n",
    "from threading import Thread\n",
    "\n",
    "def worker(q, n):\n",
    "    while True:\n",
    "        item = q.get()\n",
    "        if item is None:\n",
    "            break\n",
    "            \n",
    "        print(\"process data:\", n, item)\n",
    "        time.sleep(0.5)       \n",
    "\n",
    "q = Queue(5)\n",
    "th1 = Thread(target=worker, args=(q, 1))\n",
    "th2 = Thread(target=worker, args=(q, 2))\n",
    "th1.start(); \n",
    "th2.start()\n",
    "\n",
    "for i in range(15):\n",
    "    q.put(i)\n",
    "    print(list(q.queue))\n",
    "    time.sleep(0.1)\n",
    "\n",
    "q.put(None); q.put(None)\n",
    "th1.join(); th2.join()"
   ]
  },
  {
   "cell_type": "markdown",
   "metadata": {},
   "source": [
    "# Замки (Locks)"
   ]
  },
  {
   "cell_type": "markdown",
   "metadata": {},
   "source": [
    "Использование очередей делает код выполняемой программы более простым. И, по возможности, лучше разрабатывать код таким образом, чтобы не было глобального разделяемого ресурса или состояния. Тем не менее, иногда приходится использовать блокировки."
   ]
  },
  {
   "cell_type": "code",
   "execution_count": 13,
   "metadata": {},
   "outputs": [
    {
     "data": {
      "text/plain": [
       "(15, 10)"
      ]
     },
     "execution_count": 13,
     "metadata": {},
     "output_type": "execute_result"
    }
   ],
   "source": [
    "class Point():\n",
    "    def __init__(self, x, y):\n",
    "        self.set(x, y)\n",
    "    def get(self):\n",
    "        return (self.x, self.y)\n",
    "    def set(self, x, y):\n",
    "        self.x = x\n",
    "        self.y = y\n",
    "\n",
    "my_point = Point(10, 20)\n",
    "my_point.set(15, 10)\n",
    "my_point.get()"
   ]
  },
  {
   "cell_type": "markdown",
   "metadata": {},
   "source": [
    "Предположим, что мы создали объект класса Point и используем этот объект в большом количестве потоков. Некоторые потоки вызывают метод get, другие вызывают метод set. Если бы не было блокировок, то могла возникнуть ситуация, когда один поток изменил значение координаты x, а другой поток в это время вернул координаты x и y."
   ]
  },
  {
   "cell_type": "code",
   "execution_count": 14,
   "metadata": {},
   "outputs": [
    {
     "data": {
      "text/plain": [
       "(15, 10)"
      ]
     },
     "execution_count": 14,
     "metadata": {},
     "output_type": "execute_result"
    }
   ],
   "source": [
    "import threading\n",
    "\n",
    "class Point():\n",
    "    def __init__(self, x, y):\n",
    "        self.mutex = threading.RLock()\n",
    "        self.set(x, y)\n",
    "    def get(self):\n",
    "        with self.mutex:\n",
    "            return (self.x, self.y)\n",
    "    def set(self, x, y):\n",
    "        with self.mutex:\n",
    "            self.x = x\n",
    "            self.y = y\n",
    "\n",
    "my_point = Point(10, 20)\n",
    "my_point.set(15, 10)\n",
    "my_point.get()"
   ]
  },
  {
   "cell_type": "markdown",
   "metadata": {},
   "source": [
    "# Lock в multiprocessing.\n",
    "\n",
    "Модуль multiprocessing поддерживает замки так же, как и модуль threading. Все что вам нужно, это импортировать Lock, повесить его, сделать что-нибудь и снять его. Например:"
   ]
  },
  {
   "cell_type": "code",
   "execution_count": 17,
   "metadata": {},
   "outputs": [],
   "source": [
    "from multiprocessing import Process, Lock\n",
    "from os import getpid\n",
    "import time\n",
    "\n",
    "def printer(item, lock):\n",
    "    print(\" I'm process\", getpid())\n",
    "    lock.acquire()\n",
    "    if item == 'tango':\n",
    "        time.sleep(1)\n",
    "    try:\n",
    "        print(item)\n",
    "    finally:\n",
    "        lock.release()\n",
    "\n",
    "if __name__ == '__main__':\n",
    "    lock = Lock()\n",
    "    items = ['tango', 'foxtrot', 10]\n",
    "\n",
    "    for item in items:\n",
    "        p = Process(target=printer, args=(item, lock))\n",
    "        p.start()"
   ]
  },
  {
   "cell_type": "markdown",
   "metadata": {},
   "source": [
    "Здесь создана простая функция вывода, которая выводит все, что вы ей передаете. Чтобы не дать процессам конфликтовать друг с другом, мы используем объект Lock. Запустим эту программу в отдельных потоках для эллементов списка. Каждый процесс будет вызывать функцию, и передавать ей один из объектов. Так как мы используем замки, следующий процесс в строке будет ждать, пока замок не снимется, после чего он сможет продолжить."
   ]
  },
  {
   "cell_type": "markdown",
   "metadata": {},
   "source": [
    "# Упражнение 2. Числа Фибоначчи.\n",
    "\n",
    "Рассмотрим алгоритм быстрого возведения в степень"
   ]
  },
  {
   "cell_type": "code",
   "execution_count": 13,
   "metadata": {
    "collapsed": true
   },
   "outputs": [],
   "source": [
    "import numpy as np  \n",
    "def  Fibonacci(n):\n",
    "\n",
    "    A = np.array([[1,1],[1,0]])\n",
    "    B = A\n",
    "    N = n\n",
    "    while N > 0:\n",
    "        if N % 2 == 1:\n",
    "            A = np.dot(B,A)\n",
    "        B = np.dot(B,B)\n",
    "        N = N // 2\n",
    "    return A[1,1]"
   ]
  },
  {
   "cell_type": "code",
   "execution_count": 14,
   "metadata": {},
   "outputs": [
    {
     "data": {
      "text/plain": [
       "0"
      ]
     },
     "execution_count": 14,
     "metadata": {},
     "output_type": "execute_result"
    }
   ],
   "source": [
    "Fibonacci(0)"
   ]
  },
  {
   "cell_type": "code",
   "execution_count": 15,
   "metadata": {},
   "outputs": [
    {
     "data": {
      "text/plain": [
       "34"
      ]
     },
     "execution_count": 15,
     "metadata": {},
     "output_type": "execute_result"
    }
   ],
   "source": [
    "Fibonacci(9)"
   ]
  },
  {
   "cell_type": "markdown",
   "metadata": {},
   "source": [
    "Рассмотрим возможность распаралеливания этого алгоритма:"
   ]
  },
  {
   "cell_type": "code",
   "execution_count": 16,
   "metadata": {
    "collapsed": true
   },
   "outputs": [],
   "source": [
    "def  Fibonacci(n):\n",
    "   \n",
    "    p, q, r = 1, 1, 0\n",
    "    N = n//2; par = n%2\n",
    "    while N > 0:\n",
    "        \n",
    "      # Thread_1        Thread_2           Thread_3      Thread_4\n",
    "        \n",
    "        pp = p*p;       qq = q*q;          rr = r*r;     pr = p + r;       #  Такт 1\n",
    "        p1 = pp + qq;   r1 = qq + rr;      q1 = q*pr;                      #  Такт 2\n",
    "        p2 = p1 + q1;                                                      #  Такт 3\n",
    "\n",
    "        if N % 2 == 1:   p, q, r = p2, p1, q1\n",
    "        else:            p, q, r = p1, q1, r1\n",
    "        N = N // 2     \n",
    "  \n",
    "    if par==0: return r    \n",
    "    else:      return q"
   ]
  },
  {
   "cell_type": "code",
   "execution_count": 12,
   "metadata": {},
   "outputs": [
    {
     "data": {
      "text/plain": [
       "34"
      ]
     },
     "execution_count": 12,
     "metadata": {},
     "output_type": "execute_result"
    }
   ],
   "source": [
    "Fibonacci(9)"
   ]
  },
  {
   "cell_type": "markdown",
   "metadata": {},
   "source": [
    "Напишите программу использующую паралельные процессы (процессы и потоки) для реализации этого алгоритма и оцените время работы. "
   ]
  },
  {
   "cell_type": "code",
   "execution_count": null,
   "metadata": {
    "collapsed": true
   },
   "outputs": [],
   "source": []
  },
  {
   "cell_type": "markdown",
   "metadata": {},
   "source": [
    "# Упражнение 3. Поиск в ширину.\n",
    "\n",
    "Ранее мы рассматривали алгоритм поиска в ширину на ориетированном не взвешенном графе."
   ]
  },
  {
   "cell_type": "code",
   "execution_count": 13,
   "metadata": {},
   "outputs": [],
   "source": [
    "import networkx as nx\n",
    "import pylab\n",
    "import matplotlib.pyplot as plt"
   ]
  },
  {
   "cell_type": "markdown",
   "metadata": {},
   "source": [
    "Код программы реализующий поиск в ширину (с записью предшественников):"
   ]
  },
  {
   "cell_type": "code",
   "execution_count": 14,
   "metadata": {},
   "outputs": [],
   "source": [
    "def bfs(graph, s, out=0):\n",
    "    parents = {v: None for v in graph}\n",
    "    level = {v: None for v in graph}\n",
    "    level[s] = 0                          # уровень начальной вершины\n",
    "    queue = [s]                           # добавляем начальную вершину в очередь\n",
    "    while queue:                          # пока там что-то есть\n",
    "        v = queue.pop(0)                  # извлекаем вершину\n",
    "        for w in graph[v]:                # запускаем обход из вершины v\n",
    "            if level[w] is None:          # проверка на посещенность\n",
    "                queue.append(w)           # добавление вершины в очередь\n",
    "                parents[w] = v\n",
    "                level[w] = level[v] + 1   # подсчитываем уровень вершины\n",
    "        if out: print(level[w], level, queue)\n",
    "    return level, parents"
   ]
  },
  {
   "cell_type": "markdown",
   "metadata": {},
   "source": [
    "И программы востанавливающий маршрут:"
   ]
  },
  {
   "cell_type": "code",
   "execution_count": 15,
   "metadata": {},
   "outputs": [],
   "source": [
    "def PATH (end, parents):\n",
    "    path = [end]\n",
    "    parent = parents[end]\n",
    "    while not parent is None:\n",
    "        path.append(parent)\n",
    "        parent = parents[parent]\n",
    "    return path[::-1]"
   ]
  },
  {
   "cell_type": "markdown",
   "metadata": {},
   "source": [
    "Пусть задан грав множеством смежности:"
   ]
  },
  {
   "cell_type": "code",
   "execution_count": 16,
   "metadata": {},
   "outputs": [],
   "source": [
    "pos = {0: {1, 2},\n",
    "       1: {3, 4},\n",
    "       2: {1, 4},\n",
    "       3: {4},\n",
    "       4: {1, 3, 5},\n",
    "       5: {0, 2}}"
   ]
  },
  {
   "cell_type": "markdown",
   "metadata": {},
   "source": [
    "Создадим соответствующий направленный граф (https://networkx.github.io/documentation/networkx-1.10/reference/classes.digraph.html)"
   ]
  },
  {
   "cell_type": "code",
   "execution_count": 17,
   "metadata": {},
   "outputs": [
    {
     "data": {
      "image/png": "[encoded data removed]",
      "text/plain": [
       "<Figure size 432x288 with 1 Axes>"
      ]
     },
     "metadata": {},
     "output_type": "display_data"
    },
    {
     "data": {
      "text/plain": [
       "<Figure size 432x288 with 0 Axes>"
      ]
     },
     "metadata": {},
     "output_type": "display_data"
    }
   ],
   "source": [
    "N = 6\n",
    "G = nx.DiGraph()\n",
    "a = [(i, j) for i in range(N) for j in pos[i]] # генерация списка рёбер\n",
    "\n",
    "G.add_nodes_from(range(N))\n",
    "G.add_edges_from(a)\n",
    "\n",
    "nx.draw(G,with_labels=True)\n",
    "\n",
    "pylab.figure ()\n",
    "plt.show()"
   ]
  },
  {
   "cell_type": "markdown",
   "metadata": {},
   "source": [
    "Определим с помощью поиска в ширину кратчайший маршрут:"
   ]
  },
  {
   "cell_type": "code",
   "execution_count": 18,
   "metadata": {},
   "outputs": [],
   "source": [
    "level, parents = bfs(pos, 0, out=0)"
   ]
  },
  {
   "cell_type": "code",
   "execution_count": 19,
   "metadata": {},
   "outputs": [
    {
     "name": "stdout",
     "output_type": "stream",
     "text": [
      "[0, 1, 4, 5]\n"
     ]
    }
   ],
   "source": [
    "path = PATH(5, parents)\n",
    "print(path)"
   ]
  },
  {
   "cell_type": "markdown",
   "metadata": {},
   "source": [
    "Рассмотрите возможность распаралеливания этого алгоритма и напишите соответстствующую программу:"
   ]
  },
  {
   "cell_type": "code",
   "execution_count": null,
   "metadata": {},
   "outputs": [],
   "source": []
  },
  {
   "cell_type": "markdown",
   "metadata": {},
   "source": [
    "# Домашнее задание (базовое):"
   ]
  },
  {
   "cell_type": "markdown",
   "metadata": {},
   "source": [
    "# Задание 1. Скалярное произведение векторов.\n",
    "\n",
    "Напишите программу реализующую каскадное скалярное произведение векторов."
   ]
  },
  {
   "cell_type": "code",
   "execution_count": null,
   "metadata": {
    "collapsed": true
   },
   "outputs": [],
   "source": []
  },
  {
   "cell_type": "markdown",
   "metadata": {},
   "source": [
    "# Задание 2. Произведение матриц.\n",
    "\n",
    "Напишите программу разделяющую матрицы ни подматрицы, осуществляющую паралельное перемножение матриц и объединяющую результаты в одну матрицу."
   ]
  },
  {
   "cell_type": "code",
   "execution_count": null,
   "metadata": {
    "collapsed": true
   },
   "outputs": [],
   "source": []
  },
  {
   "cell_type": "markdown",
   "metadata": {},
   "source": [
    "# Задание 3. Алгоритм Флойда.\n",
    "\n",
    "Одной из основных задач теории графов является поиск всех кратчайших путей в ориентированном взвешанном графе. Её можно решить с помощью алгоритма Флойда. \n",
    "\n",
    "Пусть задан ориентированный взвешанный граф:"
   ]
  },
  {
   "cell_type": "code",
   "execution_count": 18,
   "metadata": {},
   "outputs": [
    {
     "data": {
      "image/png": "[encoded data removed]",
      "text/plain": [
       "<IPython.core.display.Image object>"
      ]
     },
     "execution_count": 18,
     "metadata": {},
     "output_type": "execute_result"
    }
   ],
   "source": [
    "# Так можно добавлять картинки\n",
    "\n",
    "from IPython.display import Image         # вызов из библиотеки определённой функции\n",
    "Image(\"Алгоритм Флойда.png\")              # вызов функции и передача ей в качестве аргумента пути к файлу \n",
    "\n",
    "# (в данном случае фаил находится в той же папке)"
   ]
  },
  {
   "cell_type": "code",
   "execution_count": null,
   "metadata": {
    "collapsed": true
   },
   "outputs": [],
   "source": [
    "google = 9999999999\n",
    "A = "
   ]
  },
  {
   "cell_type": "code",
   "execution_count": 19,
   "metadata": {
    "collapsed": true
   },
   "outputs": [],
   "source": [
    "def Floid(A, n):\n",
    "    F = A.copy()\n",
    "    for k in range(n): \n",
    "        for i in range(n): \n",
    "            for j in range(n): \n",
    "                A[i,j] = min(A[i,j],A[i,k]+A[k,j])\n",
    "    return F"
   ]
  },
  {
   "cell_type": "markdown",
   "metadata": {},
   "source": [
    "Проанализируйте возможность распаралеливания этого алгаритма и напишите соответствующую программу, оценити сокращение времени работы."
   ]
  },
  {
   "cell_type": "code",
   "execution_count": null,
   "metadata": {
    "collapsed": true
   },
   "outputs": [],
   "source": []
  }
 ],
 "metadata": {
  "kernelspec": {
   "display_name": "Python 3",
   "language": "python",
   "name": "python3"
  },
  "language_info": {
   "codemirror_mode": {
    "name": "ipython",
    "version": 3
   },
   "file_extension": ".py",
   "mimetype": "text/x-python",
   "name": "python",
   "nbconvert_exporter": "python",
   "pygments_lexer": "ipython3",
   "version": "3.8.8"
  }
 },
 "nbformat": 4,
 "nbformat_minor": 2
}
